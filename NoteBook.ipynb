{
 "cells": [
  {
   "cell_type": "code",
   "execution_count": 2,
   "metadata": {},
   "outputs": [],
   "source": [
    "import pandas as pd\n",
    "import numpy as np\n",
    "from matplotlib import pyplot as plt\n",
    "import seaborn as sns"
   ]
  },
  {
   "cell_type": "code",
   "execution_count": 3,
   "metadata": {},
   "outputs": [],
   "source": [
    "df = pd.read_csv('D:\\\\kaggle\\\\Air Crashes Full Data 1908 -2023\\\\aircrashesFullData.csv')"
   ]
  },
  {
   "cell_type": "markdown",
   "metadata": {},
   "source": [
    "Exploratory data analysis (EDA)"
   ]
  },
  {
   "cell_type": "code",
   "execution_count": 4,
   "metadata": {},
   "outputs": [
    {
     "data": {
      "text/html": [
       "<div>\n",
       "<style scoped>\n",
       "    .dataframe tbody tr th:only-of-type {\n",
       "        vertical-align: middle;\n",
       "    }\n",
       "\n",
       "    .dataframe tbody tr th {\n",
       "        vertical-align: top;\n",
       "    }\n",
       "\n",
       "    .dataframe thead th {\n",
       "        text-align: right;\n",
       "    }\n",
       "</style>\n",
       "<table border=\"1\" class=\"dataframe\">\n",
       "  <thead>\n",
       "    <tr style=\"text-align: right;\">\n",
       "      <th></th>\n",
       "      <th>Year</th>\n",
       "      <th>Quarter</th>\n",
       "      <th>Month</th>\n",
       "      <th>Day</th>\n",
       "      <th>Country/Region</th>\n",
       "      <th>Aircraft Manufacturer</th>\n",
       "      <th>Aircraft</th>\n",
       "      <th>Location</th>\n",
       "      <th>Operator</th>\n",
       "      <th>Sum of Ground</th>\n",
       "      <th>Sum of Fatalities (air)</th>\n",
       "      <th>Sum of Aboard</th>\n",
       "    </tr>\n",
       "  </thead>\n",
       "  <tbody>\n",
       "    <tr>\n",
       "      <th>0</th>\n",
       "      <td>1908</td>\n",
       "      <td>Qtr 3</td>\n",
       "      <td>September</td>\n",
       "      <td>17</td>\n",
       "      <td>Virginia</td>\n",
       "      <td>Wright Flyer</td>\n",
       "      <td>Wright Flyer III?</td>\n",
       "      <td>Fort Myer Virginia</td>\n",
       "      <td>Army U.S. - Military</td>\n",
       "      <td>0</td>\n",
       "      <td>1</td>\n",
       "      <td>2</td>\n",
       "    </tr>\n",
       "    <tr>\n",
       "      <th>1</th>\n",
       "      <td>1909</td>\n",
       "      <td>Qtr 3</td>\n",
       "      <td>September</td>\n",
       "      <td>7</td>\n",
       "      <td>France?</td>\n",
       "      <td>Wright</td>\n",
       "      <td>Wright ByplaneSC1</td>\n",
       "      <td>Juvisy-sur-Orge France?</td>\n",
       "      <td>NaN</td>\n",
       "      <td>0</td>\n",
       "      <td>1</td>\n",
       "      <td>1</td>\n",
       "    </tr>\n",
       "    <tr>\n",
       "      <th>2</th>\n",
       "      <td>1912</td>\n",
       "      <td>Qtr 3</td>\n",
       "      <td>July</td>\n",
       "      <td>12</td>\n",
       "      <td>New</td>\n",
       "      <td>Dirigible?</td>\n",
       "      <td>Dirigible?</td>\n",
       "      <td>Atlantic City New</td>\n",
       "      <td>Navy U.S. - JerseyMilitary</td>\n",
       "      <td>0</td>\n",
       "      <td>5</td>\n",
       "      <td>5</td>\n",
       "    </tr>\n",
       "    <tr>\n",
       "      <th>3</th>\n",
       "      <td>1913</td>\n",
       "      <td>Qtr 3</td>\n",
       "      <td>August</td>\n",
       "      <td>6</td>\n",
       "      <td>British</td>\n",
       "      <td>Curtiss</td>\n",
       "      <td>Curtiss seaplane?</td>\n",
       "      <td>Victoria British</td>\n",
       "      <td>Canada          Columbia Private</td>\n",
       "      <td>0</td>\n",
       "      <td>1</td>\n",
       "      <td>1</td>\n",
       "    </tr>\n",
       "    <tr>\n",
       "      <th>4</th>\n",
       "      <td>1913</td>\n",
       "      <td>Qtr 3</td>\n",
       "      <td>September</td>\n",
       "      <td>9</td>\n",
       "      <td>NaN</td>\n",
       "      <td>Zeppelin</td>\n",
       "      <td>Zeppelin L 1 (airship)?</td>\n",
       "      <td>Over the North SeaMilitary - German Navy</td>\n",
       "      <td>NaN</td>\n",
       "      <td>0</td>\n",
       "      <td>14</td>\n",
       "      <td>20</td>\n",
       "    </tr>\n",
       "  </tbody>\n",
       "</table>\n",
       "</div>"
      ],
      "text/plain": [
       "   Year Quarter      Month  Day Country/Region Aircraft Manufacturer  \\\n",
       "0  1908   Qtr 3  September   17       Virginia          Wright Flyer   \n",
       "1  1909   Qtr 3  September    7        France?                Wright   \n",
       "2  1912   Qtr 3       July   12            New            Dirigible?   \n",
       "3  1913   Qtr 3     August    6        British               Curtiss   \n",
       "4  1913   Qtr 3  September    9            NaN              Zeppelin   \n",
       "\n",
       "                  Aircraft                                  Location  \\\n",
       "0        Wright Flyer III?                        Fort Myer Virginia   \n",
       "1        Wright ByplaneSC1                   Juvisy-sur-Orge France?   \n",
       "2               Dirigible?                         Atlantic City New   \n",
       "3        Curtiss seaplane?                          Victoria British   \n",
       "4  Zeppelin L 1 (airship)?  Over the North SeaMilitary - German Navy   \n",
       "\n",
       "                           Operator  Sum of Ground  Sum of Fatalities (air)  \\\n",
       "0              Army U.S. - Military              0                        1   \n",
       "1                               NaN              0                        1   \n",
       "2        Navy U.S. - JerseyMilitary              0                        5   \n",
       "3  Canada          Columbia Private              0                        1   \n",
       "4                               NaN              0                       14   \n",
       "\n",
       "   Sum of Aboard  \n",
       "0              2  \n",
       "1              1  \n",
       "2              5  \n",
       "3              1  \n",
       "4             20  "
      ]
     },
     "execution_count": 4,
     "metadata": {},
     "output_type": "execute_result"
    }
   ],
   "source": [
    "df.head()"
   ]
  },
  {
   "cell_type": "code",
   "execution_count": 5,
   "metadata": {},
   "outputs": [
    {
     "data": {
      "text/plain": [
       "Index(['Year', 'Quarter', 'Month', 'Day', 'Country/Region',\n",
       "       'Aircraft Manufacturer', 'Aircraft', 'Location', 'Operator',\n",
       "       'Sum of Ground', 'Sum of Fatalities (air)', 'Sum of Aboard'],\n",
       "      dtype='object')"
      ]
     },
     "execution_count": 5,
     "metadata": {},
     "output_type": "execute_result"
    }
   ],
   "source": [
    "df.columns"
   ]
  },
  {
   "cell_type": "code",
   "execution_count": 6,
   "metadata": {},
   "outputs": [
    {
     "name": "stdout",
     "output_type": "stream",
     "text": [
      "<class 'pandas.core.frame.DataFrame'>\n",
      "RangeIndex: 5030 entries, 0 to 5029\n",
      "Data columns (total 12 columns):\n",
      " #   Column                   Non-Null Count  Dtype \n",
      "---  ------                   --------------  ----- \n",
      " 0   Year                     5030 non-null   int64 \n",
      " 1   Quarter                  5030 non-null   object\n",
      " 2   Month                    5030 non-null   object\n",
      " 3   Day                      5030 non-null   int64 \n",
      " 4   Country/Region           4800 non-null   object\n",
      " 5   Aircraft Manufacturer    5030 non-null   object\n",
      " 6   Aircraft                 5030 non-null   object\n",
      " 7   Location                 5030 non-null   object\n",
      " 8   Operator                 4796 non-null   object\n",
      " 9   Sum of Ground            5030 non-null   int64 \n",
      " 10  Sum of Fatalities (air)  5030 non-null   int64 \n",
      " 11  Sum of Aboard            5030 non-null   int64 \n",
      "dtypes: int64(5), object(7)\n",
      "memory usage: 471.7+ KB\n"
     ]
    }
   ],
   "source": [
    "df.info()"
   ]
  },
  {
   "cell_type": "code",
   "execution_count": 7,
   "metadata": {},
   "outputs": [
    {
     "data": {
      "text/plain": [
       "Year                         0\n",
       "Quarter                      0\n",
       "Month                        0\n",
       "Day                          0\n",
       "Country/Region             230\n",
       "Aircraft Manufacturer        0\n",
       "Aircraft                     0\n",
       "Location                     0\n",
       "Operator                   234\n",
       "Sum of Ground                0\n",
       "Sum of Fatalities (air)      0\n",
       "Sum of Aboard                0\n",
       "dtype: int64"
      ]
     },
     "execution_count": 7,
     "metadata": {},
     "output_type": "execute_result"
    }
   ],
   "source": [
    "df.isnull().sum()"
   ]
  },
  {
   "cell_type": "code",
   "execution_count": 8,
   "metadata": {},
   "outputs": [
    {
     "data": {
      "text/plain": [
       "0"
      ]
     },
     "execution_count": 8,
     "metadata": {},
     "output_type": "execute_result"
    }
   ],
   "source": [
    "df.duplicated().sum()"
   ]
  },
  {
   "cell_type": "code",
   "execution_count": 9,
   "metadata": {},
   "outputs": [],
   "source": [
    "df = df.dropna()"
   ]
  },
  {
   "cell_type": "code",
   "execution_count": 10,
   "metadata": {},
   "outputs": [],
   "source": [
    "df['Country/Region'] = df['Country/Region'].replace('?','')"
   ]
  },
  {
   "cell_type": "code",
   "execution_count": 11,
   "metadata": {},
   "outputs": [],
   "source": [
    "df['Aircraft'] = df['Aircraft'].str.replace('?','',regex=True)"
   ]
  },
  {
   "cell_type": "code",
   "execution_count": 12,
   "metadata": {},
   "outputs": [],
   "source": [
    "# عدد الناجين\n",
    "df['Survivors'] = df['Sum of Aboard'] - df['Sum of Fatalities (air)']\n"
   ]
  },
  {
   "cell_type": "code",
   "execution_count": 13,
   "metadata": {},
   "outputs": [
    {
     "data": {
      "text/html": [
       "<div>\n",
       "<style scoped>\n",
       "    .dataframe tbody tr th:only-of-type {\n",
       "        vertical-align: middle;\n",
       "    }\n",
       "\n",
       "    .dataframe tbody tr th {\n",
       "        vertical-align: top;\n",
       "    }\n",
       "\n",
       "    .dataframe thead th {\n",
       "        text-align: right;\n",
       "    }\n",
       "</style>\n",
       "<table border=\"1\" class=\"dataframe\">\n",
       "  <thead>\n",
       "    <tr style=\"text-align: right;\">\n",
       "      <th></th>\n",
       "      <th>Year</th>\n",
       "      <th>Quarter</th>\n",
       "      <th>Month</th>\n",
       "      <th>Day</th>\n",
       "      <th>Country/Region</th>\n",
       "      <th>Aircraft Manufacturer</th>\n",
       "      <th>Aircraft</th>\n",
       "      <th>Location</th>\n",
       "      <th>Operator</th>\n",
       "      <th>Sum of Ground</th>\n",
       "      <th>Sum of Fatalities (air)</th>\n",
       "      <th>Sum of Aboard</th>\n",
       "      <th>Survivors</th>\n",
       "    </tr>\n",
       "  </thead>\n",
       "  <tbody>\n",
       "    <tr>\n",
       "      <th>0</th>\n",
       "      <td>1908</td>\n",
       "      <td>Qtr 3</td>\n",
       "      <td>September</td>\n",
       "      <td>17</td>\n",
       "      <td>Virginia</td>\n",
       "      <td>Wright Flyer</td>\n",
       "      <td>Wright Flyer III</td>\n",
       "      <td>Fort Myer Virginia</td>\n",
       "      <td>Army U.S. - Military</td>\n",
       "      <td>0</td>\n",
       "      <td>1</td>\n",
       "      <td>2</td>\n",
       "      <td>1</td>\n",
       "    </tr>\n",
       "    <tr>\n",
       "      <th>2</th>\n",
       "      <td>1912</td>\n",
       "      <td>Qtr 3</td>\n",
       "      <td>July</td>\n",
       "      <td>12</td>\n",
       "      <td>New</td>\n",
       "      <td>Dirigible?</td>\n",
       "      <td>Dirigible</td>\n",
       "      <td>Atlantic City New</td>\n",
       "      <td>Navy U.S. - JerseyMilitary</td>\n",
       "      <td>0</td>\n",
       "      <td>5</td>\n",
       "      <td>5</td>\n",
       "      <td>0</td>\n",
       "    </tr>\n",
       "    <tr>\n",
       "      <th>3</th>\n",
       "      <td>1913</td>\n",
       "      <td>Qtr 3</td>\n",
       "      <td>August</td>\n",
       "      <td>6</td>\n",
       "      <td>British</td>\n",
       "      <td>Curtiss</td>\n",
       "      <td>Curtiss seaplane</td>\n",
       "      <td>Victoria British</td>\n",
       "      <td>Canada          Columbia Private</td>\n",
       "      <td>0</td>\n",
       "      <td>1</td>\n",
       "      <td>1</td>\n",
       "      <td>0</td>\n",
       "    </tr>\n",
       "    <tr>\n",
       "      <th>5</th>\n",
       "      <td>1913</td>\n",
       "      <td>Qtr 4</td>\n",
       "      <td>October</td>\n",
       "      <td>17</td>\n",
       "      <td>Germany</td>\n",
       "      <td>Zeppelin</td>\n",
       "      <td>Zeppelin L 2 (airship)</td>\n",
       "      <td>Near Johannisthal Germany</td>\n",
       "      <td>Navy German - Military</td>\n",
       "      <td>0</td>\n",
       "      <td>28</td>\n",
       "      <td>28</td>\n",
       "      <td>0</td>\n",
       "    </tr>\n",
       "    <tr>\n",
       "      <th>6</th>\n",
       "      <td>1915</td>\n",
       "      <td>Qtr 1</td>\n",
       "      <td>March</td>\n",
       "      <td>5</td>\n",
       "      <td>Belgium</td>\n",
       "      <td>Zeppelin</td>\n",
       "      <td>Zeppelin L 8 (airship)</td>\n",
       "      <td>Tienen Belgium</td>\n",
       "      <td>Navy German - Military</td>\n",
       "      <td>0</td>\n",
       "      <td>17</td>\n",
       "      <td>41</td>\n",
       "      <td>24</td>\n",
       "    </tr>\n",
       "  </tbody>\n",
       "</table>\n",
       "</div>"
      ],
      "text/plain": [
       "   Year Quarter      Month  Day Country/Region Aircraft Manufacturer  \\\n",
       "0  1908   Qtr 3  September   17       Virginia          Wright Flyer   \n",
       "2  1912   Qtr 3       July   12            New            Dirigible?   \n",
       "3  1913   Qtr 3     August    6        British               Curtiss   \n",
       "5  1913   Qtr 4    October   17        Germany              Zeppelin   \n",
       "6  1915   Qtr 1      March    5        Belgium              Zeppelin   \n",
       "\n",
       "                 Aircraft                   Location  \\\n",
       "0        Wright Flyer III         Fort Myer Virginia   \n",
       "2               Dirigible          Atlantic City New   \n",
       "3        Curtiss seaplane           Victoria British   \n",
       "5  Zeppelin L 2 (airship)  Near Johannisthal Germany   \n",
       "6  Zeppelin L 8 (airship)             Tienen Belgium   \n",
       "\n",
       "                           Operator  Sum of Ground  Sum of Fatalities (air)  \\\n",
       "0              Army U.S. - Military              0                        1   \n",
       "2        Navy U.S. - JerseyMilitary              0                        5   \n",
       "3  Canada          Columbia Private              0                        1   \n",
       "5            Navy German - Military              0                       28   \n",
       "6            Navy German - Military              0                       17   \n",
       "\n",
       "   Sum of Aboard  Survivors  \n",
       "0              2          1  \n",
       "2              5          0  \n",
       "3              1          0  \n",
       "5             28          0  \n",
       "6             41         24  "
      ]
     },
     "execution_count": 13,
     "metadata": {},
     "output_type": "execute_result"
    }
   ],
   "source": [
    "df.head()"
   ]
  },
  {
   "cell_type": "markdown",
   "metadata": {},
   "source": [
    "What is the temporal distribution of accidents by years, months, and days?"
   ]
  },
  {
   "cell_type": "code",
   "execution_count": 30,
   "metadata": {},
   "outputs": [
    {
     "data": {
      "image/png": "[encoded data removed]",
      "text/plain": [
       "<Figure size 1000x600 with 1 Axes>"
      ]
     },
     "metadata": {},
     "output_type": "display_data"
    }
   ],
   "source": [
    "accidents_by_year = df['Year'].value_counts().sort_index()\n",
    "\n",
    "# Create a time series plot\n",
    "plt.figure(figsize=(10, 6))\n",
    "plt.plot(accidents_by_year.index, accidents_by_year.values, marker='o', linestyle='-')\n",
    "plt.title('Aviation Accidents Over Time')\n",
    "plt.xlabel('Year')\n",
    "plt.ylabel('Number of Accidents')\n",
    "plt.grid(True)\n",
    "plt.show()"
   ]
  },
  {
   "cell_type": "code",
   "execution_count": 31,
   "metadata": {},
   "outputs": [],
   "source": [
    "df_accidents_month = df['Month'].value_counts().sort_index()\n"
   ]
  },
  {
   "cell_type": "code",
   "execution_count": 33,
   "metadata": {},
   "outputs": [
    {
     "data": {
      "image/png": "[encoded data removed]",
      "text/plain": [
       "<Figure size 1000x600 with 1 Axes>"
      ]
     },
     "metadata": {},
     "output_type": "display_data"
    }
   ],
   "source": [
    "plt.figure(figsize=(10, 6))\n",
    "plt.plot(df_accidents_month.index, df_accidents_month.values, marker='o', linestyle='-')\n",
    "plt.title('Aviation Accidents Over Time')\n",
    "plt.xlabel('Month')\n",
    "plt.ylabel('Number of Accidents')\n",
    "plt.xticks(rotation=45)\n",
    "plt.grid(True)\n",
    "plt.show()"
   ]
  },
  {
   "cell_type": "code",
   "execution_count": 35,
   "metadata": {},
   "outputs": [],
   "source": [
    "df_accidents_day = df['Day'].value_counts().reset_index()\n",
    "df_accidents_day.columns = ['Day','count']"
   ]
  },
  {
   "cell_type": "code",
   "execution_count": 40,
   "metadata": {},
   "outputs": [
    {
     "data": {
      "image/png": "[encoded data removed]",
      "text/plain": [
       "<Figure size 640x480 with 1 Axes>"
      ]
     },
     "metadata": {},
     "output_type": "display_data"
    }
   ],
   "source": [
    "sns.lineplot(data=df_accidents_day,x='Day',y='count')\n",
    "plt.xticks(rotation=45)\n",
    "plt.show()"
   ]
  },
  {
   "cell_type": "markdown",
   "metadata": {},
   "source": [
    "Which countries/regions have been most affected by aviation accidents?"
   ]
  },
  {
   "cell_type": "code",
   "execution_count": 20,
   "metadata": {},
   "outputs": [
    {
     "data": {
      "text/html": [
       "<div>\n",
       "<style scoped>\n",
       "    .dataframe tbody tr th:only-of-type {\n",
       "        vertical-align: middle;\n",
       "    }\n",
       "\n",
       "    .dataframe tbody tr th {\n",
       "        vertical-align: top;\n",
       "    }\n",
       "\n",
       "    .dataframe thead th {\n",
       "        text-align: right;\n",
       "    }\n",
       "</style>\n",
       "<table border=\"1\" class=\"dataframe\">\n",
       "  <thead>\n",
       "    <tr style=\"text-align: right;\">\n",
       "      <th></th>\n",
       "      <th>Country/Region</th>\n",
       "      <th>Accident Count</th>\n",
       "    </tr>\n",
       "  </thead>\n",
       "  <tbody>\n",
       "    <tr>\n",
       "      <th>0</th>\n",
       "      <td>Russia</td>\n",
       "      <td>249</td>\n",
       "    </tr>\n",
       "    <tr>\n",
       "      <th>1</th>\n",
       "      <td>Brazil</td>\n",
       "      <td>162</td>\n",
       "    </tr>\n",
       "    <tr>\n",
       "      <th>2</th>\n",
       "      <td>Colombia</td>\n",
       "      <td>146</td>\n",
       "    </tr>\n",
       "    <tr>\n",
       "      <th>3</th>\n",
       "      <td>New</td>\n",
       "      <td>142</td>\n",
       "    </tr>\n",
       "    <tr>\n",
       "      <th>4</th>\n",
       "      <td>California</td>\n",
       "      <td>112</td>\n",
       "    </tr>\n",
       "    <tr>\n",
       "      <th>...</th>\n",
       "      <td>...</td>\n",
       "      <td>...</td>\n",
       "    </tr>\n",
       "    <tr>\n",
       "      <th>503</th>\n",
       "      <td>Granada</td>\n",
       "      <td>1</td>\n",
       "    </tr>\n",
       "    <tr>\n",
       "      <th>504</th>\n",
       "      <td>Wantagh</td>\n",
       "      <td>1</td>\n",
       "    </tr>\n",
       "    <tr>\n",
       "      <th>505</th>\n",
       "      <td>Phillipines</td>\n",
       "      <td>1</td>\n",
       "    </tr>\n",
       "    <tr>\n",
       "      <th>506</th>\n",
       "      <td>Montserrat</td>\n",
       "      <td>1</td>\n",
       "    </tr>\n",
       "    <tr>\n",
       "      <th>507</th>\n",
       "      <td>Sulu</td>\n",
       "      <td>1</td>\n",
       "    </tr>\n",
       "  </tbody>\n",
       "</table>\n",
       "<p>508 rows × 2 columns</p>\n",
       "</div>"
      ],
      "text/plain": [
       "    Country/Region  Accident Count\n",
       "0           Russia             249\n",
       "1           Brazil             162\n",
       "2         Colombia             146\n",
       "3              New             142\n",
       "4       California             112\n",
       "..             ...             ...\n",
       "503        Granada               1\n",
       "504        Wantagh               1\n",
       "505    Phillipines               1\n",
       "506     Montserrat               1\n",
       "507           Sulu               1\n",
       "\n",
       "[508 rows x 2 columns]"
      ]
     },
     "execution_count": 20,
     "metadata": {},
     "output_type": "execute_result"
    }
   ],
   "source": [
    "country_accident_counts = df['Country/Region'].value_counts().reset_index()\n",
    "country_accident_counts.columns = ['Country/Region', 'Accident Count']\n",
    "country_accident_counts"
   ]
  },
  {
   "cell_type": "code",
   "execution_count": 21,
   "metadata": {},
   "outputs": [],
   "source": [
    "import plotly.express as px"
   ]
  },
  {
   "cell_type": "code",
   "execution_count": 22,
   "metadata": {},
   "outputs": [
    {
     "data": {
      "application/vnd.plotly.v1+json": {
       "config": {
        "plotlyServerURL": "https://plot.ly"
       },
       "data": [
        {
         "geo": "geo",
         "hovertemplate": "<b>%{hovertext}</b><br><br>Accident Count=%{marker.color}<br>Country/Region=%{location}<extra></extra>",
         "hovertext": [
          "Russia",
          "Brazil",
          "Colombia",
          "New",
          "California",
          "France",
          "Alaska",
          "India",
          "South",
          "Indonesia",
          "China",
          "Mexico",
          "England",
          "Italy",
          "Germany",
          "Philippines",
          "Spain",
          "Peru",
          "Venezuela",
          "Australia",
          "Texas",
          "Ohio",
          "Bolivia",
          "Iran",
          "Angola",
          "Argentina",
          "Egypt",
          "Afghanistan",
          "Japan",
          "Nepal",
          "Nigeria",
          "Pakistan",
          "Taiwan",
          "Illinois",
          "Florida",
          "North",
          "Pennsylvania",
          "Washington",
          "Ecuador",
          "Georgia",
          "Turkey",
          "Sudan",
          "Colorado",
          "Canada",
          "Greece",
          "Ukraine",
          "Papua",
          "Congo",
          "Morocco",
          "Missouri",
          "Norway",
          "West",
          "Vietnam",
          "Romania",
          "Chile",
          "Laos",
          "near",
          "British",
          "Algeria",
          "Newfoundland",
          "Wyoming",
          "Thailand",
          "Maryland",
          "Kenya",
          "Indiana",
          "Hawaii",
          "Ethiopia",
          "Virginia",
          "Switzerland",
          "Utah",
          "Nevada",
          "Democratic",
          "Ontario",
          "Puerto",
          "Belgium",
          "Scotland",
          "Quebec",
          "Guatemala",
          "Libya",
          "Honduras",
          "United",
          "Massachusetts",
          "Netherlands",
          "Saudi",
          "Czechoslovakia",
          "Arizona",
          "Cuba",
          "Burma",
          "Ireland",
          "Michigan",
          "Poland",
          "Sri",
          "Iraq",
          "Montana",
          "Panama",
          "French",
          "Myanmar",
          "Cameroon",
          "Tennessee",
          "Bulgaria",
          "Louisiana",
          "Connecticut",
          "Costa",
          "Azerbaijan",
          "Zaire",
          "Nicaragua",
          "BC",
          "Yugoslavia",
          "Sweden",
          "Kazakhstan",
          "Malaysia",
          "Oregon",
          "Iowa",
          "Syria",
          "Minnesota",
          "Somalia",
          "Denmark",
          "Kentucky",
          "East",
          "Lebanon",
          "Kansas",
          "Hong",
          "Uzbekistan",
          "Greenland",
          "Azores",
          "Senegal",
          "Hungary",
          "Madagascar",
          "Mauritania",
          "Canary",
          "Yemen",
          "Alberta",
          "Jordan",
          "Queensland",
          "Idaho",
          "Portugal",
          "Alabama",
          "Virgin",
          "Arkansas",
          "Malta",
          "Mongolia",
          "Wisconsin",
          "Tanzania",
          "Northwest",
          "Maine",
          "Ivory",
          "Uruguay",
          "Bahamas",
          "Dominican",
          "Gambia",
          "Kent",
          "off",
          "Nebraska",
          "Paraguay",
          "Mali",
          "Mozambique",
          "Iceland",
          "Suriname",
          "'-",
          "Tennesee",
          "Zambia",
          "Fiji",
          "Oklahoma",
          "Maharashtra",
          "Manitoba",
          "Equatorial",
          "Uganda",
          "Estonia",
          "Mississippi",
          "Liberia",
          "Surrey",
          "Cambodia",
          "Saskatchewan",
          "Okinawa",
          "Finland",
          "The",
          "Macedonia",
          "Armenia",
          "Guyana",
          "Turkmenistan",
          "Austria",
          "Cyprus",
          "Gabon",
          "Vermont",
          "Belgian",
          "PQ",
          "Czech",
          "Central",
          "Zimbabwe",
          "Comoros",
          "Kyrgyzstan",
          "Haiti",
          "Vanuatu",
          "Croatia",
          "Guam",
          "Ghana",
          "Corsica",
          "Indian",
          "Siberia",
          "Niger",
          "Nova",
          "Northern",
          "Rwanda",
          "Rio",
          "USSRMilitary",
          "Bangladesh",
          "Barbados",
          "Sicily",
          "American",
          "Los",
          "Slovenia",
          "Slovakia",
          "Crete",
          "Columbia",
          "Guinea",
          "Molokai",
          "Rhodesia",
          "Solomon",
          "Qatar",
          "Shetlands",
          "Guadeloupe",
          "Comoro",
          "Covington/Hebron",
          "Rhode",
          "10",
          "Luxembourg",
          "Channel",
          "El",
          "Kuwait",
          "NSW",
          "Guangxi",
          "Minnisota",
          "Gulf",
          "Jersey",
          "Cape",
          "Jiangsu",
          "U.S.",
          "Bahrain",
          "DR",
          "Delaware",
          "Air",
          "Republic",
          "Amsterdam",
          "Queens",
          "Timor",
          "ON",
          "Tunisia",
          "miles",
          "London",
          "Veracruz",
          "Qld",
          "Tajikistan",
          "Victoria",
          "Atlantic",
          "Sierra",
          "Martinique",
          "Chad",
          "Chechnya",
          "Wisconson",
          "Trinidad",
          "Alaksa",
          "Kauai",
          "Kazakastan",
          "Albania",
          "Zabul",
          "UAEGulf",
          "570",
          "D.C.Air",
          "UKBritish",
          "Democtratic",
          "Djbouti",
          "Catalina",
          "Black",
          "Napal",
          "Azuay",
          "Brunei",
          "FL",
          "Moldova",
          "Yugosalvia",
          "Saint",
          "Russian",
          "Micronesia",
          "Suiyang",
          "Mississipi",
          "Spain\n\t\nMoron",
          "Norway\tCHC",
          "Hrvatska",
          "Norrbotten",
          "Nambia",
          "Malinau",
          "Island",
          "Curacao",
          "Mount",
          "AKAlaska",
          "Nunavut",
          "Coloado",
          "Brazil\tAmazonaves",
          "India\tPawan",
          "Jeddah",
          "Tajikistan\tMilitary",
          "Ross",
          "Indonesia\n\t\nSarmi",
          "Mauretania",
          "Miao-li",
          "Providencia",
          "110",
          "Huila",
          "NWT",
          "Beni",
          "Djibouti\n\tDjibouti",
          "Ellesmere",
          "Calilfornia",
          "Kosovo",
          "Jawa",
          "Manatoba",
          "Hunary",
          "Algarve",
          "Irian",
          "Morroco",
          "Guantanamo",
          "Aichi",
          "Great",
          "Inodnesia",
          "Eritrea",
          "San",
          "Trento",
          "Kirghizia",
          "Valle",
          "Africa",
          "Samoa",
          "Domincan",
          "CAMilitary",
          "Hati",
          "Miami",
          "Cook",
          "Airzona",
          "Afghanstan",
          "Surinam",
          "Inner",
          "Belarus",
          "Vizcaya",
          "Manmar",
          "Soviet",
          "Djibouti",
          "Islay",
          "Leeward",
          "Azerbaijan\n\t\nBakou",
          "Malawi",
          "Sichuan",
          "N",
          "Bosnia-Herzegovina",
          "CADuncan",
          "Tusayan",
          "Benin",
          "Para",
          "Namibia",
          "Sao",
          "Lesotho",
          "Lombok",
          "Norfork",
          "Virginia.American",
          "Terceira",
          "St.",
          "Sierre",
          "Philipines",
          "Boliviano",
          "Upper",
          "Oman",
          "Bhutan",
          "Marshall",
          "18",
          "Cardiff",
          "Yukon",
          "D.C.Capital",
          "Gujarat",
          "Buea",
          "Dorset",
          "Warks",
          "Lochgoilhead",
          "NYUS",
          "Middlesex",
          "NE",
          "Besar",
          "Bermuda",
          "800",
          "Singapore",
          "Mexic",
          "Argentinade",
          "Covington",
          "Ayrshire",
          "de",
          "SK",
          "Mariana",
          "Bugaria",
          "325",
          "Tokyo",
          "Jamaica",
          "Tanganyika",
          "Newfoundlandu.s.",
          "Sardinia",
          "Labrador",
          "Persian",
          "Khmer",
          "Boliva",
          "Australila",
          "Buckinghamshire",
          "WYUS",
          "Vera",
          "Cailifornia",
          "Bias",
          "Ariège",
          "Brisbane",
          "Californiia",
          "Brazil\nFlorianopolis",
          "Calabria",
          "Ilinois",
          "Bavaria",
          "Oltenia",
          "Argyll",
          "Marine",
          "Guanacaste",
          "Tasmania",
          "Lorraine",
          "Pacific",
          "Malaya",
          "Stirlingshire",
          "Italyde",
          "Cocos",
          "PE",
          "Dutch",
          "Picrdie",
          "Isle",
          "Yunan",
          "Västergötland",
          "Gilbert",
          "OLD",
          "Sarawak",
          "Cameroons",
          "Washingon",
          "Biafra",
          "Western",
          "Glens",
          "Nuevo",
          "Zulia",
          "Horley",
          "WA",
          "South-West",
          "Moldavia",
          "Reunion",
          "Latvia",
          "Sussex",
          "Malagasy",
          "Cheshire",
          "Da",
          "US",
          "Alakska",
          "Hants",
          "Orly",
          "Bali",
          "Botswana",
          "HIPan",
          "Boston",
          "HIAir",
          "Tahiti",
          "Prov.",
          "Gerona",
          "USSRBalkan",
          "Chicago",
          "Loire",
          "Huanuco",
          "Chile\tAerolineas",
          "Faeroe",
          "QC",
          "Mt.",
          "Cundinamarca",
          "Aregntina",
          "SC",
          "Bulgeria",
          "Qld.",
          "Jamacia",
          "Ryukyu",
          "Lombardia",
          "Uzbekstan",
          "Sumatra",
          "Placentia",
          "100",
          "Brazil\tLoide",
          "Baangladesh",
          "Lancs",
          "Madrid",
          "Guernsey",
          "Kodiak",
          "Margarita",
          "Philippine",
          "Val-de-Marne",
          "Guadaloupe",
          "Volcano",
          "116",
          "Aargau",
          "Deleware",
          "Aaland",
          "Massachutes",
          "Saudia",
          "Granada",
          "Wantagh",
          "Phillipines",
          "Montserrat",
          "Sulu"
         ],
         "legendgroup": "",
         "locationmode": "country names",
         "locations": [
          "Russia",
          "Brazil",
          "Colombia",
          "New",
          "California",
          "France",
          "Alaska",
          "India",
          "South",
          "Indonesia",
          "China",
          "Mexico",
          "England",
          "Italy",
          "Germany",
          "Philippines",
          "Spain",
          "Peru",
          "Venezuela",
          "Australia",
          "Texas",
          "Ohio",
          "Bolivia",
          "Iran",
          "Angola",
          "Argentina",
          "Egypt",
          "Afghanistan",
          "Japan",
          "Nepal",
          "Nigeria",
          "Pakistan",
          "Taiwan",
          "Illinois",
          "Florida",
          "North",
          "Pennsylvania",
          "Washington",
          "Ecuador",
          "Georgia",
          "Turkey",
          "Sudan",
          "Colorado",
          "Canada",
          "Greece",
          "Ukraine",
          "Papua",
          "Congo",
          "Morocco",
          "Missouri",
          "Norway",
          "West",
          "Vietnam",
          "Romania",
          "Chile",
          "Laos",
          "near",
          "British",
          "Algeria",
          "Newfoundland",
          "Wyoming",
          "Thailand",
          "Maryland",
          "Kenya",
          "Indiana",
          "Hawaii",
          "Ethiopia",
          "Virginia",
          "Switzerland",
          "Utah",
          "Nevada",
          "Democratic",
          "Ontario",
          "Puerto",
          "Belgium",
          "Scotland",
          "Quebec",
          "Guatemala",
          "Libya",
          "Honduras",
          "United",
          "Massachusetts",
          "Netherlands",
          "Saudi",
          "Czechoslovakia",
          "Arizona",
          "Cuba",
          "Burma",
          "Ireland",
          "Michigan",
          "Poland",
          "Sri",
          "Iraq",
          "Montana",
          "Panama",
          "French",
          "Myanmar",
          "Cameroon",
          "Tennessee",
          "Bulgaria",
          "Louisiana",
          "Connecticut",
          "Costa",
          "Azerbaijan",
          "Zaire",
          "Nicaragua",
          "BC",
          "Yugoslavia",
          "Sweden",
          "Kazakhstan",
          "Malaysia",
          "Oregon",
          "Iowa",
          "Syria",
          "Minnesota",
          "Somalia",
          "Denmark",
          "Kentucky",
          "East",
          "Lebanon",
          "Kansas",
          "Hong",
          "Uzbekistan",
          "Greenland",
          "Azores",
          "Senegal",
          "Hungary",
          "Madagascar",
          "Mauritania",
          "Canary",
          "Yemen",
          "Alberta",
          "Jordan",
          "Queensland",
          "Idaho",
          "Portugal",
          "Alabama",
          "Virgin",
          "Arkansas",
          "Malta",
          "Mongolia",
          "Wisconsin",
          "Tanzania",
          "Northwest",
          "Maine",
          "Ivory",
          "Uruguay",
          "Bahamas",
          "Dominican",
          "Gambia",
          "Kent",
          "off",
          "Nebraska",
          "Paraguay",
          "Mali",
          "Mozambique",
          "Iceland",
          "Suriname",
          "'-",
          "Tennesee",
          "Zambia",
          "Fiji",
          "Oklahoma",
          "Maharashtra",
          "Manitoba",
          "Equatorial",
          "Uganda",
          "Estonia",
          "Mississippi",
          "Liberia",
          "Surrey",
          "Cambodia",
          "Saskatchewan",
          "Okinawa",
          "Finland",
          "The",
          "Macedonia",
          "Armenia",
          "Guyana",
          "Turkmenistan",
          "Austria",
          "Cyprus",
          "Gabon",
          "Vermont",
          "Belgian",
          "PQ",
          "Czech",
          "Central",
          "Zimbabwe",
          "Comoros",
          "Kyrgyzstan",
          "Haiti",
          "Vanuatu",
          "Croatia",
          "Guam",
          "Ghana",
          "Corsica",
          "Indian",
          "Siberia",
          "Niger",
          "Nova",
          "Northern",
          "Rwanda",
          "Rio",
          "USSRMilitary",
          "Bangladesh",
          "Barbados",
          "Sicily",
          "American",
          "Los",
          "Slovenia",
          "Slovakia",
          "Crete",
          "Columbia",
          "Guinea",
          "Molokai",
          "Rhodesia",
          "Solomon",
          "Qatar",
          "Shetlands",
          "Guadeloupe",
          "Comoro",
          "Covington/Hebron",
          "Rhode",
          "10",
          "Luxembourg",
          "Channel",
          "El",
          "Kuwait",
          "NSW",
          "Guangxi",
          "Minnisota",
          "Gulf",
          "Jersey",
          "Cape",
          "Jiangsu",
          "U.S.",
          "Bahrain",
          "DR",
          "Delaware",
          "Air",
          "Republic",
          "Amsterdam",
          "Queens",
          "Timor",
          "ON",
          "Tunisia",
          "miles",
          "London",
          "Veracruz",
          "Qld",
          "Tajikistan",
          "Victoria",
          "Atlantic",
          "Sierra",
          "Martinique",
          "Chad",
          "Chechnya",
          "Wisconson",
          "Trinidad",
          "Alaksa",
          "Kauai",
          "Kazakastan",
          "Albania",
          "Zabul",
          "UAEGulf",
          "570",
          "D.C.Air",
          "UKBritish",
          "Democtratic",
          "Djbouti",
          "Catalina",
          "Black",
          "Napal",
          "Azuay",
          "Brunei",
          "FL",
          "Moldova",
          "Yugosalvia",
          "Saint",
          "Russian",
          "Micronesia",
          "Suiyang",
          "Mississipi",
          "Spain\n\t\nMoron",
          "Norway\tCHC",
          "Hrvatska",
          "Norrbotten",
          "Nambia",
          "Malinau",
          "Island",
          "Curacao",
          "Mount",
          "AKAlaska",
          "Nunavut",
          "Coloado",
          "Brazil\tAmazonaves",
          "India\tPawan",
          "Jeddah",
          "Tajikistan\tMilitary",
          "Ross",
          "Indonesia\n\t\nSarmi",
          "Mauretania",
          "Miao-li",
          "Providencia",
          "110",
          "Huila",
          "NWT",
          "Beni",
          "Djibouti\n\tDjibouti",
          "Ellesmere",
          "Calilfornia",
          "Kosovo",
          "Jawa",
          "Manatoba",
          "Hunary",
          "Algarve",
          "Irian",
          "Morroco",
          "Guantanamo",
          "Aichi",
          "Great",
          "Inodnesia",
          "Eritrea",
          "San",
          "Trento",
          "Kirghizia",
          "Valle",
          "Africa",
          "Samoa",
          "Domincan",
          "CAMilitary",
          "Hati",
          "Miami",
          "Cook",
          "Airzona",
          "Afghanstan",
          "Surinam",
          "Inner",
          "Belarus",
          "Vizcaya",
          "Manmar",
          "Soviet",
          "Djibouti",
          "Islay",
          "Leeward",
          "Azerbaijan\n\t\nBakou",
          "Malawi",
          "Sichuan",
          "N",
          "Bosnia-Herzegovina",
          "CADuncan",
          "Tusayan",
          "Benin",
          "Para",
          "Namibia",
          "Sao",
          "Lesotho",
          "Lombok",
          "Norfork",
          "Virginia.American",
          "Terceira",
          "St.",
          "Sierre",
          "Philipines",
          "Boliviano",
          "Upper",
          "Oman",
          "Bhutan",
          "Marshall",
          "18",
          "Cardiff",
          "Yukon",
          "D.C.Capital",
          "Gujarat",
          "Buea",
          "Dorset",
          "Warks",
          "Lochgoilhead",
          "NYUS",
          "Middlesex",
          "NE",
          "Besar",
          "Bermuda",
          "800",
          "Singapore",
          "Mexic",
          "Argentinade",
          "Covington",
          "Ayrshire",
          "de",
          "SK",
          "Mariana",
          "Bugaria",
          "325",
          "Tokyo",
          "Jamaica",
          "Tanganyika",
          "Newfoundlandu.s.",
          "Sardinia",
          "Labrador",
          "Persian",
          "Khmer",
          "Boliva",
          "Australila",
          "Buckinghamshire",
          "WYUS",
          "Vera",
          "Cailifornia",
          "Bias",
          "Ariège",
          "Brisbane",
          "Californiia",
          "Brazil\nFlorianopolis",
          "Calabria",
          "Ilinois",
          "Bavaria",
          "Oltenia",
          "Argyll",
          "Marine",
          "Guanacaste",
          "Tasmania",
          "Lorraine",
          "Pacific",
          "Malaya",
          "Stirlingshire",
          "Italyde",
          "Cocos",
          "PE",
          "Dutch",
          "Picrdie",
          "Isle",
          "Yunan",
          "Västergötland",
          "Gilbert",
          "OLD",
          "Sarawak",
          "Cameroons",
          "Washingon",
          "Biafra",
          "Western",
          "Glens",
          "Nuevo",
          "Zulia",
          "Horley",
          "WA",
          "South-West",
          "Moldavia",
          "Reunion",
          "Latvia",
          "Sussex",
          "Malagasy",
          "Cheshire",
          "Da",
          "US",
          "Alakska",
          "Hants",
          "Orly",
          "Bali",
          "Botswana",
          "HIPan",
          "Boston",
          "HIAir",
          "Tahiti",
          "Prov.",
          "Gerona",
          "USSRBalkan",
          "Chicago",
          "Loire",
          "Huanuco",
          "Chile\tAerolineas",
          "Faeroe",
          "QC",
          "Mt.",
          "Cundinamarca",
          "Aregntina",
          "SC",
          "Bulgeria",
          "Qld.",
          "Jamacia",
          "Ryukyu",
          "Lombardia",
          "Uzbekstan",
          "Sumatra",
          "Placentia",
          "100",
          "Brazil\tLoide",
          "Baangladesh",
          "Lancs",
          "Madrid",
          "Guernsey",
          "Kodiak",
          "Margarita",
          "Philippine",
          "Val-de-Marne",
          "Guadaloupe",
          "Volcano",
          "116",
          "Aargau",
          "Deleware",
          "Aaland",
          "Massachutes",
          "Saudia",
          "Granada",
          "Wantagh",
          "Phillipines",
          "Montserrat",
          "Sulu"
         ],
         "marker": {
          "color": [
           249,
           162,
           146,
           142,
           112,
           111,
           101,
           96,
           92,
           88,
           82,
           78,
           77,
           76,
           76,
           69,
           53,
           51,
           51,
           47,
           47,
           44,
           44,
           43,
           40,
           40,
           39,
           39,
           36,
           35,
           34,
           33,
           33,
           33,
           33,
           32,
           32,
           32,
           31,
           31,
           30,
           30,
           29,
           27,
           27,
           27,
           26,
           25,
           25,
           25,
           25,
           24,
           23,
           23,
           22,
           21,
           21,
           21,
           20,
           20,
           20,
           19,
           19,
           19,
           19,
           18,
           18,
           18,
           17,
           17,
           17,
           17,
           17,
           17,
           16,
           16,
           16,
           15,
           15,
           15,
           15,
           15,
           15,
           15,
           14,
           14,
           14,
           14,
           14,
           14,
           14,
           14,
           13,
           13,
           12,
           12,
           12,
           12,
           12,
           12,
           12,
           12,
           11,
           11,
           11,
           11,
           11,
           11,
           10,
           10,
           10,
           10,
           10,
           10,
           9,
           9,
           9,
           8,
           8,
           8,
           8,
           8,
           8,
           7,
           7,
           7,
           7,
           7,
           7,
           7,
           7,
           7,
           7,
           7,
           7,
           6,
           6,
           6,
           6,
           6,
           6,
           6,
           6,
           6,
           5,
           5,
           5,
           5,
           5,
           5,
           5,
           5,
           5,
           5,
           5,
           5,
           4,
           4,
           4,
           4,
           4,
           4,
           4,
           4,
           4,
           4,
           4,
           4,
           4,
           4,
           4,
           4,
           4,
           4,
           4,
           4,
           4,
           4,
           4,
           4,
           4,
           4,
           4,
           3,
           3,
           3,
           3,
           3,
           3,
           3,
           3,
           3,
           3,
           3,
           3,
           3,
           3,
           3,
           3,
           3,
           3,
           3,
           3,
           3,
           3,
           3,
           2,
           2,
           2,
           2,
           2,
           2,
           2,
           2,
           2,
           2,
           2,
           2,
           2,
           2,
           2,
           2,
           2,
           2,
           2,
           2,
           2,
           2,
           2,
           2,
           2,
           2,
           2,
           2,
           2,
           2,
           2,
           2,
           2,
           2,
           2,
           2,
           2,
           2,
           2,
           2,
           2,
           2,
           2,
           2,
           2,
           2,
           2,
           2,
           2,
           2,
           2,
           2,
           2,
           2,
           2,
           1,
           1,
           1,
           1,
           1,
           1,
           1,
           1,
           1,
           1,
           1,
           1,
           1,
           1,
           1,
           1,
           1,
           1,
           1,
           1,
           1,
           1,
           1,
           1,
           1,
           1,
           1,
           1,
           1,
           1,
           1,
           1,
           1,
           1,
           1,
           1,
           1,
           1,
           1,
           1,
           1,
           1,
           1,
           1,
           1,
           1,
           1,
           1,
           1,
           1,
           1,
           1,
           1,
           1,
           1,
           1,
           1,
           1,
           1,
           1,
           1,
           1,
           1,
           1,
           1,
           1,
           1,
           1,
           1,
           1,
           1,
           1,
           1,
           1,
           1,
           1,
           1,
           1,
           1,
           1,
           1,
           1,
           1,
           1,
           1,
           1,
           1,
           1,
           1,
           1,
           1,
           1,
           1,
           1,
           1,
           1,
           1,
           1,
           1,
           1,
           1,
           1,
           1,
           1,
           1,
           1,
           1,
           1,
           1,
           1,
           1,
           1,
           1,
           1,
           1,
           1,
           1,
           1,
           1,
           1,
           1,
           1,
           1,
           1,
           1,
           1,
           1,
           1,
           1,
           1,
           1,
           1,
           1,
           1,
           1,
           1,
           1,
           1,
           1,
           1,
           1,
           1,
           1,
           1,
           1,
           1,
           1,
           1,
           1,
           1,
           1,
           1,
           1,
           1,
           1,
           1,
           1,
           1,
           1,
           1,
           1,
           1,
           1,
           1,
           1,
           1,
           1,
           1,
           1,
           1,
           1,
           1,
           1,
           1,
           1,
           1,
           1,
           1,
           1,
           1,
           1,
           1,
           1,
           1,
           1,
           1,
           1,
           1,
           1,
           1,
           1,
           1,
           1,
           1,
           1,
           1,
           1,
           1,
           1,
           1,
           1,
           1,
           1,
           1,
           1,
           1,
           1,
           1,
           1,
           1,
           1,
           1,
           1,
           1,
           1,
           1,
           1,
           1,
           1,
           1,
           1,
           1,
           1,
           1,
           1,
           1,
           1,
           1,
           1,
           1,
           1,
           1,
           1,
           1,
           1,
           1,
           1,
           1,
           1,
           1,
           1,
           1,
           1,
           1,
           1,
           1,
           1
          ],
          "coloraxis": "coloraxis",
          "line": {
           "color": "DarkSlateGrey",
           "width": 1
          },
          "size": [
           249,
           162,
           146,
           142,
           112,
           111,
           101,
           96,
           92,
           88,
           82,
           78,
           77,
           76,
           76,
           69,
           53,
           51,
           51,
           47,
           47,
           44,
           44,
           43,
           40,
           40,
           39,
           39,
           36,
           35,
           34,
           33,
           33,
           33,
           33,
           32,
           32,
           32,
           31,
           31,
           30,
           30,
           29,
           27,
           27,
           27,
           26,
           25,
           25,
           25,
           25,
           24,
           23,
           23,
           22,
           21,
           21,
           21,
           20,
           20,
           20,
           19,
           19,
           19,
           19,
           18,
           18,
           18,
           17,
           17,
           17,
           17,
           17,
           17,
           16,
           16,
           16,
           15,
           15,
           15,
           15,
           15,
           15,
           15,
           14,
           14,
           14,
           14,
           14,
           14,
           14,
           14,
           13,
           13,
           12,
           12,
           12,
           12,
           12,
           12,
           12,
           12,
           11,
           11,
           11,
           11,
           11,
           11,
           10,
           10,
           10,
           10,
           10,
           10,
           9,
           9,
           9,
           8,
           8,
           8,
           8,
           8,
           8,
           7,
           7,
           7,
           7,
           7,
           7,
           7,
           7,
           7,
           7,
           7,
           7,
           6,
           6,
           6,
           6,
           6,
           6,
           6,
           6,
           6,
           5,
           5,
           5,
           5,
           5,
           5,
           5,
           5,
           5,
           5,
           5,
           5,
           4,
           4,
           4,
           4,
           4,
           4,
           4,
           4,
           4,
           4,
           4,
           4,
           4,
           4,
           4,
           4,
           4,
           4,
           4,
           4,
           4,
           4,
           4,
           4,
           4,
           4,
           4,
           3,
           3,
           3,
           3,
           3,
           3,
           3,
           3,
           3,
           3,
           3,
           3,
           3,
           3,
           3,
           3,
           3,
           3,
           3,
           3,
           3,
           3,
           3,
           2,
           2,
           2,
           2,
           2,
           2,
           2,
           2,
           2,
           2,
           2,
           2,
           2,
           2,
           2,
           2,
           2,
           2,
           2,
           2,
           2,
           2,
           2,
           2,
           2,
           2,
           2,
           2,
           2,
           2,
           2,
           2,
           2,
           2,
           2,
           2,
           2,
           2,
           2,
           2,
           2,
           2,
           2,
           2,
           2,
           2,
           2,
           2,
           2,
           2,
           2,
           2,
           2,
           2,
           2,
           1,
           1,
           1,
           1,
           1,
           1,
           1,
           1,
           1,
           1,
           1,
           1,
           1,
           1,
           1,
           1,
           1,
           1,
           1,
           1,
           1,
           1,
           1,
           1,
           1,
           1,
           1,
           1,
           1,
           1,
           1,
           1,
           1,
           1,
           1,
           1,
           1,
           1,
           1,
           1,
           1,
           1,
           1,
           1,
           1,
           1,
           1,
           1,
           1,
           1,
           1,
           1,
           1,
           1,
           1,
           1,
           1,
           1,
           1,
           1,
           1,
           1,
           1,
           1,
           1,
           1,
           1,
           1,
           1,
           1,
           1,
           1,
           1,
           1,
           1,
           1,
           1,
           1,
           1,
           1,
           1,
           1,
           1,
           1,
           1,
           1,
           1,
           1,
           1,
           1,
           1,
           1,
           1,
           1,
           1,
           1,
           1,
           1,
           1,
           1,
           1,
           1,
           1,
           1,
           1,
           1,
           1,
           1,
           1,
           1,
           1,
           1,
           1,
           1,
           1,
           1,
           1,
           1,
           1,
           1,
           1,
           1,
           1,
           1,
           1,
           1,
           1,
           1,
           1,
           1,
           1,
           1,
           1,
           1,
           1,
           1,
           1,
           1,
           1,
           1,
           1,
           1,
           1,
           1,
           1,
           1,
           1,
           1,
           1,
           1,
           1,
           1,
           1,
           1,
           1,
           1,
           1,
           1,
           1,
           1,
           1,
           1,
           1,
           1,
           1,
           1,
           1,
           1,
           1,
           1,
           1,
           1,
           1,
           1,
           1,
           1,
           1,
           1,
           1,
           1,
           1,
           1,
           1,
           1,
           1,
           1,
           1,
           1,
           1,
           1,
           1,
           1,
           1,
           1,
           1,
           1,
           1,
           1,
           1,
           1,
           1,
           1,
           1,
           1,
           1,
           1,
           1,
           1,
           1,
           1,
           1,
           1,
           1,
           1,
           1,
           1,
           1,
           1,
           1,
           1,
           1,
           1,
           1,
           1,
           1,
           1,
           1,
           1,
           1,
           1,
           1,
           1,
           1,
           1,
           1,
           1,
           1,
           1,
           1,
           1,
           1,
           1,
           1,
           1,
           1,
           1,
           1
          ],
          "sizemode": "area",
          "sizeref": 0.6225,
          "symbol": "circle"
         },
         "mode": "markers",
         "name": "",
         "showlegend": false,
         "type": "scattergeo"
        }
       ],
       "layout": {
        "coloraxis": {
         "colorbar": {
          "title": {
           "text": "Accident Count"
          }
         },
         "colorscale": [
          [
           0,
           "#0d0887"
          ],
          [
           0.1111111111111111,
           "#46039f"
          ],
          [
           0.2222222222222222,
           "#7201a8"
          ],
          [
           0.3333333333333333,
           "#9c179e"
          ],
          [
           0.4444444444444444,
           "#bd3786"
          ],
          [
           0.5555555555555556,
           "#d8576b"
          ],
          [
           0.6666666666666666,
           "#ed7953"
          ],
          [
           0.7777777777777778,
           "#fb9f3a"
          ],
          [
           0.8888888888888888,
           "#fdca26"
          ],
          [
           1,
           "#f0f921"
          ]
         ]
        },
        "geo": {
         "bgcolor": "rgba(0,0,0,0)",
         "center": {},
         "coastlinecolor": "Black",
         "domain": {
          "x": [
           0,
           1
          ],
          "y": [
           0,
           1
          ]
         },
         "landcolor": "white",
         "projection": {
          "type": "natural earth"
         },
         "showcoastlines": true,
         "showland": true
        },
        "legend": {
         "itemsizing": "constant",
         "tracegroupgap": 0
        },
        "template": {
         "data": {
          "bar": [
           {
            "error_x": {
             "color": "#2a3f5f"
            },
            "error_y": {
             "color": "#2a3f5f"
            },
            "marker": {
             "line": {
              "color": "#E5ECF6",
              "width": 0.5
             },
             "pattern": {
              "fillmode": "overlay",
              "size": 10,
              "solidity": 0.2
             }
            },
            "type": "bar"
           }
          ],
          "barpolar": [
           {
            "marker": {
             "line": {
              "color": "#E5ECF6",
              "width": 0.5
             },
             "pattern": {
              "fillmode": "overlay",
              "size": 10,
              "solidity": 0.2
             }
            },
            "type": "barpolar"
           }
          ],
          "carpet": [
           {
            "aaxis": {
             "endlinecolor": "#2a3f5f",
             "gridcolor": "white",
             "linecolor": "white",
             "minorgridcolor": "white",
             "startlinecolor": "#2a3f5f"
            },
            "baxis": {
             "endlinecolor": "#2a3f5f",
             "gridcolor": "white",
             "linecolor": "white",
             "minorgridcolor": "white",
             "startlinecolor": "#2a3f5f"
            },
            "type": "carpet"
           }
          ],
          "choropleth": [
           {
            "colorbar": {
             "outlinewidth": 0,
             "ticks": ""
            },
            "type": "choropleth"
           }
          ],
          "contour": [
           {
            "colorbar": {
             "outlinewidth": 0,
             "ticks": ""
            },
            "colorscale": [
             [
              0,
              "#0d0887"
             ],
             [
              0.1111111111111111,
              "#46039f"
             ],
             [
              0.2222222222222222,
              "#7201a8"
             ],
             [
              0.3333333333333333,
              "#9c179e"
             ],
             [
              0.4444444444444444,
              "#bd3786"
             ],
             [
              0.5555555555555556,
              "#d8576b"
             ],
             [
              0.6666666666666666,
              "#ed7953"
             ],
             [
              0.7777777777777778,
              "#fb9f3a"
             ],
             [
              0.8888888888888888,
              "#fdca26"
             ],
             [
              1,
              "#f0f921"
             ]
            ],
            "type": "contour"
           }
          ],
          "contourcarpet": [
           {
            "colorbar": {
             "outlinewidth": 0,
             "ticks": ""
            },
            "type": "contourcarpet"
           }
          ],
          "heatmap": [
           {
            "colorbar": {
             "outlinewidth": 0,
             "ticks": ""
            },
            "colorscale": [
             [
              0,
              "#0d0887"
             ],
             [
              0.1111111111111111,
              "#46039f"
             ],
             [
              0.2222222222222222,
              "#7201a8"
             ],
             [
              0.3333333333333333,
              "#9c179e"
             ],
             [
              0.4444444444444444,
              "#bd3786"
             ],
             [
              0.5555555555555556,
              "#d8576b"
             ],
             [
              0.6666666666666666,
              "#ed7953"
             ],
             [
              0.7777777777777778,
              "#fb9f3a"
             ],
             [
              0.8888888888888888,
              "#fdca26"
             ],
             [
              1,
              "#f0f921"
             ]
            ],
            "type": "heatmap"
           }
          ],
          "heatmapgl": [
           {
            "colorbar": {
             "outlinewidth": 0,
             "ticks": ""
            },
            "colorscale": [
             [
              0,
              "#0d0887"
             ],
             [
              0.1111111111111111,
              "#46039f"
             ],
             [
              0.2222222222222222,
              "#7201a8"
             ],
             [
              0.3333333333333333,
              "#9c179e"
             ],
             [
              0.4444444444444444,
              "#bd3786"
             ],
             [
              0.5555555555555556,
              "#d8576b"
             ],
             [
              0.6666666666666666,
              "#ed7953"
             ],
             [
              0.7777777777777778,
              "#fb9f3a"
             ],
             [
              0.8888888888888888,
              "#fdca26"
             ],
             [
              1,
              "#f0f921"
             ]
            ],
            "type": "heatmapgl"
           }
          ],
          "histogram": [
           {
            "marker": {
             "pattern": {
              "fillmode": "overlay",
              "size": 10,
              "solidity": 0.2
             }
            },
            "type": "histogram"
           }
          ],
          "histogram2d": [
           {
            "colorbar": {
             "outlinewidth": 0,
             "ticks": ""
            },
            "colorscale": [
             [
              0,
              "#0d0887"
             ],
             [
              0.1111111111111111,
              "#46039f"
             ],
             [
              0.2222222222222222,
              "#7201a8"
             ],
             [
              0.3333333333333333,
              "#9c179e"
             ],
             [
              0.4444444444444444,
              "#bd3786"
             ],
             [
              0.5555555555555556,
              "#d8576b"
             ],
             [
              0.6666666666666666,
              "#ed7953"
             ],
             [
              0.7777777777777778,
              "#fb9f3a"
             ],
             [
              0.8888888888888888,
              "#fdca26"
             ],
             [
              1,
              "#f0f921"
             ]
            ],
            "type": "histogram2d"
           }
          ],
          "histogram2dcontour": [
           {
            "colorbar": {
             "outlinewidth": 0,
             "ticks": ""
            },
            "colorscale": [
             [
              0,
              "#0d0887"
             ],
             [
              0.1111111111111111,
              "#46039f"
             ],
             [
              0.2222222222222222,
              "#7201a8"
             ],
             [
              0.3333333333333333,
              "#9c179e"
             ],
             [
              0.4444444444444444,
              "#bd3786"
             ],
             [
              0.5555555555555556,
              "#d8576b"
             ],
             [
              0.6666666666666666,
              "#ed7953"
             ],
             [
              0.7777777777777778,
              "#fb9f3a"
             ],
             [
              0.8888888888888888,
              "#fdca26"
             ],
             [
              1,
              "#f0f921"
             ]
            ],
            "type": "histogram2dcontour"
           }
          ],
          "mesh3d": [
           {
            "colorbar": {
             "outlinewidth": 0,
             "ticks": ""
            },
            "type": "mesh3d"
           }
          ],
          "parcoords": [
           {
            "line": {
             "colorbar": {
              "outlinewidth": 0,
              "ticks": ""
             }
            },
            "type": "parcoords"
           }
          ],
          "pie": [
           {
            "automargin": true,
            "type": "pie"
           }
          ],
          "scatter": [
           {
            "fillpattern": {
             "fillmode": "overlay",
             "size": 10,
             "solidity": 0.2
            },
            "type": "scatter"
           }
          ],
          "scatter3d": [
           {
            "line": {
             "colorbar": {
              "outlinewidth": 0,
              "ticks": ""
             }
            },
            "marker": {
             "colorbar": {
              "outlinewidth": 0,
              "ticks": ""
             }
            },
            "type": "scatter3d"
           }
          ],
          "scattercarpet": [
           {
            "marker": {
             "colorbar": {
              "outlinewidth": 0,
              "ticks": ""
             }
            },
            "type": "scattercarpet"
           }
          ],
          "scattergeo": [
           {
            "marker": {
             "colorbar": {
              "outlinewidth": 0,
              "ticks": ""
             }
            },
            "type": "scattergeo"
           }
          ],
          "scattergl": [
           {
            "marker": {
             "colorbar": {
              "outlinewidth": 0,
              "ticks": ""
             }
            },
            "type": "scattergl"
           }
          ],
          "scattermapbox": [
           {
            "marker": {
             "colorbar": {
              "outlinewidth": 0,
              "ticks": ""
             }
            },
            "type": "scattermapbox"
           }
          ],
          "scatterpolar": [
           {
            "marker": {
             "colorbar": {
              "outlinewidth": 0,
              "ticks": ""
             }
            },
            "type": "scatterpolar"
           }
          ],
          "scatterpolargl": [
           {
            "marker": {
             "colorbar": {
              "outlinewidth": 0,
              "ticks": ""
             }
            },
            "type": "scatterpolargl"
           }
          ],
          "scatterternary": [
           {
            "marker": {
             "colorbar": {
              "outlinewidth": 0,
              "ticks": ""
             }
            },
            "type": "scatterternary"
           }
          ],
          "surface": [
           {
            "colorbar": {
             "outlinewidth": 0,
             "ticks": ""
            },
            "colorscale": [
             [
              0,
              "#0d0887"
             ],
             [
              0.1111111111111111,
              "#46039f"
             ],
             [
              0.2222222222222222,
              "#7201a8"
             ],
             [
              0.3333333333333333,
              "#9c179e"
             ],
             [
              0.4444444444444444,
              "#bd3786"
             ],
             [
              0.5555555555555556,
              "#d8576b"
             ],
             [
              0.6666666666666666,
              "#ed7953"
             ],
             [
              0.7777777777777778,
              "#fb9f3a"
             ],
             [
              0.8888888888888888,
              "#fdca26"
             ],
             [
              1,
              "#f0f921"
             ]
            ],
            "type": "surface"
           }
          ],
          "table": [
           {
            "cells": {
             "fill": {
              "color": "#EBF0F8"
             },
             "line": {
              "color": "white"
             }
            },
            "header": {
             "fill": {
              "color": "#C8D4E3"
             },
             "line": {
              "color": "white"
             }
            },
            "type": "table"
           }
          ]
         },
         "layout": {
          "annotationdefaults": {
           "arrowcolor": "#2a3f5f",
           "arrowhead": 0,
           "arrowwidth": 1
          },
          "autotypenumbers": "strict",
          "coloraxis": {
           "colorbar": {
            "outlinewidth": 0,
            "ticks": ""
           }
          },
          "colorscale": {
           "diverging": [
            [
             0,
             "#8e0152"
            ],
            [
             0.1,
             "#c51b7d"
            ],
            [
             0.2,
             "#de77ae"
            ],
            [
             0.3,
             "#f1b6da"
            ],
            [
             0.4,
             "#fde0ef"
            ],
            [
             0.5,
             "#f7f7f7"
            ],
            [
             0.6,
             "#e6f5d0"
            ],
            [
             0.7,
             "#b8e186"
            ],
            [
             0.8,
             "#7fbc41"
            ],
            [
             0.9,
             "#4d9221"
            ],
            [
             1,
             "#276419"
            ]
           ],
           "sequential": [
            [
             0,
             "#0d0887"
            ],
            [
             0.1111111111111111,
             "#46039f"
            ],
            [
             0.2222222222222222,
             "#7201a8"
            ],
            [
             0.3333333333333333,
             "#9c179e"
            ],
            [
             0.4444444444444444,
             "#bd3786"
            ],
            [
             0.5555555555555556,
             "#d8576b"
            ],
            [
             0.6666666666666666,
             "#ed7953"
            ],
            [
             0.7777777777777778,
             "#fb9f3a"
            ],
            [
             0.8888888888888888,
             "#fdca26"
            ],
            [
             1,
             "#f0f921"
            ]
           ],
           "sequentialminus": [
            [
             0,
             "#0d0887"
            ],
            [
             0.1111111111111111,
             "#46039f"
            ],
            [
             0.2222222222222222,
             "#7201a8"
            ],
            [
             0.3333333333333333,
             "#9c179e"
            ],
            [
             0.4444444444444444,
             "#bd3786"
            ],
            [
             0.5555555555555556,
             "#d8576b"
            ],
            [
             0.6666666666666666,
             "#ed7953"
            ],
            [
             0.7777777777777778,
             "#fb9f3a"
            ],
            [
             0.8888888888888888,
             "#fdca26"
            ],
            [
             1,
             "#f0f921"
            ]
           ]
          },
          "colorway": [
           "#636efa",
           "#EF553B",
           "#00cc96",
           "#ab63fa",
           "#FFA15A",
           "#19d3f3",
           "#FF6692",
           "#B6E880",
           "#FF97FF",
           "#FECB52"
          ],
          "font": {
           "color": "#2a3f5f"
          },
          "geo": {
           "bgcolor": "white",
           "lakecolor": "white",
           "landcolor": "#E5ECF6",
           "showlakes": true,
           "showland": true,
           "subunitcolor": "white"
          },
          "hoverlabel": {
           "align": "left"
          },
          "hovermode": "closest",
          "mapbox": {
           "style": "light"
          },
          "paper_bgcolor": "white",
          "plot_bgcolor": "#E5ECF6",
          "polar": {
           "angularaxis": {
            "gridcolor": "white",
            "linecolor": "white",
            "ticks": ""
           },
           "bgcolor": "#E5ECF6",
           "radialaxis": {
            "gridcolor": "white",
            "linecolor": "white",
            "ticks": ""
           }
          },
          "scene": {
           "xaxis": {
            "backgroundcolor": "#E5ECF6",
            "gridcolor": "white",
            "gridwidth": 2,
            "linecolor": "white",
            "showbackground": true,
            "ticks": "",
            "zerolinecolor": "white"
           },
           "yaxis": {
            "backgroundcolor": "#E5ECF6",
            "gridcolor": "white",
            "gridwidth": 2,
            "linecolor": "white",
            "showbackground": true,
            "ticks": "",
            "zerolinecolor": "white"
           },
           "zaxis": {
            "backgroundcolor": "#E5ECF6",
            "gridcolor": "white",
            "gridwidth": 2,
            "linecolor": "white",
            "showbackground": true,
            "ticks": "",
            "zerolinecolor": "white"
           }
          },
          "shapedefaults": {
           "line": {
            "color": "#2a3f5f"
           }
          },
          "ternary": {
           "aaxis": {
            "gridcolor": "white",
            "linecolor": "white",
            "ticks": ""
           },
           "baxis": {
            "gridcolor": "white",
            "linecolor": "white",
            "ticks": ""
           },
           "bgcolor": "#E5ECF6",
           "caxis": {
            "gridcolor": "white",
            "linecolor": "white",
            "ticks": ""
           }
          },
          "title": {
           "x": 0.05
          },
          "xaxis": {
           "automargin": true,
           "gridcolor": "white",
           "linecolor": "white",
           "ticks": "",
           "title": {
            "standoff": 15
           },
           "zerolinecolor": "white",
           "zerolinewidth": 2
          },
          "yaxis": {
           "automargin": true,
           "gridcolor": "white",
           "linecolor": "white",
           "ticks": "",
           "title": {
            "standoff": 15
           },
           "zerolinecolor": "white",
           "zerolinewidth": 2
          }
         }
        },
        "title": {
         "text": "Aviation Accidents by Country/Region"
        }
       }
      }
     },
     "metadata": {},
     "output_type": "display_data"
    }
   ],
   "source": [
    "# إنشاء خريطة Plotly Express\n",
    "fig = px.scatter_geo(country_accident_counts, \n",
    "                     locations=\"Country/Region\", \n",
    "                     locationmode='country names',\n",
    "                     color=\"Accident Count\", \n",
    "                     hover_name=\"Country/Region\",\n",
    "                     size=\"Accident Count\",\n",
    "                     projection=\"natural earth\",\n",
    "                     title=\"Aviation Accidents by Country/Region\")\n",
    "\n",
    "# تعديل التصميم والتخصيص\n",
    "fig.update_geos(showcoastlines=True, coastlinecolor=\"Black\", showland=True, landcolor=\"white\")\n",
    "fig.update_layout(geo=dict(bgcolor= 'rgba(0,0,0,0)'))\n",
    "fig.update_traces(marker=dict(line=dict(width=1, color='DarkSlateGrey')))\n",
    "\n",
    "# عرض الخريطة\n",
    "fig.show()\n"
   ]
  },
  {
   "cell_type": "markdown",
   "metadata": {},
   "source": [
    "Which airlines have been most impacted by accidents?"
   ]
  },
  {
   "cell_type": "code",
   "execution_count": 23,
   "metadata": {},
   "outputs": [],
   "source": [
    "df_airlines = df['Operator'].value_counts().reset_index().head(20)\n",
    "df_airlines.columns = ['Operator','count']\n"
   ]
  },
  {
   "cell_type": "code",
   "execution_count": 24,
   "metadata": {},
   "outputs": [
    {
     "data": {
      "image/png": "[encoded data removed]",
      "text/plain": [
       "<Figure size 640x480 with 1 Axes>"
      ]
     },
     "metadata": {},
     "output_type": "display_data"
    }
   ],
   "source": [
    "sns.barplot(data=df_airlines,x='count',y='Operator')\n",
    "plt.title('The 20 most affected operators by aviation accidents')\n",
    "plt.show()"
   ]
  },
  {
   "cell_type": "markdown",
   "metadata": {},
   "source": [
    "What are the most commonly used aircraft in accidents?"
   ]
  },
  {
   "cell_type": "code",
   "execution_count": 25,
   "metadata": {},
   "outputs": [],
   "source": [
    "df_aircraft = df['Aircraft'].value_counts().reset_index().head(20)\n",
    "df_aircraft.columns = ['Aircraft','count']"
   ]
  },
  {
   "cell_type": "code",
   "execution_count": 26,
   "metadata": {},
   "outputs": [
    {
     "data": {
      "image/png": "[encoded data removed]",
      "text/plain": [
       "<Figure size 640x480 with 1 Axes>"
      ]
     },
     "metadata": {},
     "output_type": "display_data"
    }
   ],
   "source": [
    "sns.barplot(data=df_aircraft,x='count',y='Aircraft')\n",
    "plt.title('The 20 most commonly used aircraft in accidents')\n",
    "plt.show()"
   ]
  },
  {
   "cell_type": "markdown",
   "metadata": {},
   "source": [
    "What are the ground casualties and fatalities (Ground Casualties) resulting from accidents?"
   ]
  },
  {
   "cell_type": "code",
   "execution_count": 27,
   "metadata": {},
   "outputs": [
    {
     "name": "stdout",
     "output_type": "stream",
     "text": [
      "Total Ground Casualties: 8574\n",
      "Total Fatalities on Ground: 106254\n"
     ]
    }
   ],
   "source": [
    "total_ground_casualties = df['Sum of Ground'].sum()\n",
    "total_fatalities_on_ground = df['Sum of Fatalities (air)'].sum()\n",
    "print(f\"Total Ground Casualties: {total_ground_casualties}\")\n",
    "print(f\"Total Fatalities on Ground: {total_fatalities_on_ground}\")\n",
    "\n"
   ]
  },
  {
   "cell_type": "code",
   "execution_count": 28,
   "metadata": {},
   "outputs": [
    {
     "data": {
      "image/png": "[encoded data removed]",
      "text/plain": [
       "<Figure size 800x600 with 1 Axes>"
      ]
     },
     "metadata": {},
     "output_type": "display_data"
    }
   ],
   "source": [
    "ground_data = [total_ground_casualties, total_fatalities_on_ground]\n",
    "labels = ['Total Ground Casualties', 'Total Fatalities on Ground']\n",
    "plt.figure(figsize=(8, 6))\n",
    "plt.bar(labels, ground_data, color=['lightblue', 'red'])\n",
    "plt.title('Ground Casualties and Fatalities from Aviation Accidents')\n",
    "plt.ylabel('Number of Cases')\n",
    "plt.show()"
   ]
  },
  {
   "cell_type": "markdown",
   "metadata": {},
   "source": []
  }
 ],
 "metadata": {
  "kernelspec": {
   "display_name": "Python 3",
   "language": "python",
   "name": "python3"
  },
  "language_info": {
   "codemirror_mode": {
    "name": "ipython",
    "version": 3
   },
   "file_extension": ".py",
   "mimetype": "text/x-python",
   "name": "python",
   "nbconvert_exporter": "python",
   "pygments_lexer": "ipython3",
   "version": "3.10.0"
  },
  "orig_nbformat": 4
 },
 "nbformat": 4,
 "nbformat_minor": 2
}
